{
 "cells": [
  {
   "cell_type": "code",
   "execution_count": 18,
   "id": "0f386a41",
   "metadata": {
    "scrolled": true
   },
   "outputs": [
    {
     "data": {
      "text/html": [
       "<div>\n",
       "<style scoped>\n",
       "    .dataframe tbody tr th:only-of-type {\n",
       "        vertical-align: middle;\n",
       "    }\n",
       "\n",
       "    .dataframe tbody tr th {\n",
       "        vertical-align: top;\n",
       "    }\n",
       "\n",
       "    .dataframe thead th {\n",
       "        text-align: right;\n",
       "    }\n",
       "</style>\n",
       "<table border=\"1\" class=\"dataframe\">\n",
       "  <thead>\n",
       "    <tr style=\"text-align: right;\">\n",
       "      <th></th>\n",
       "      <th>Date</th>\n",
       "      <th>Open</th>\n",
       "      <th>High</th>\n",
       "      <th>Low</th>\n",
       "      <th>Last</th>\n",
       "      <th>Close</th>\n",
       "      <th>Total Trade Quantity</th>\n",
       "      <th>Turnover (Lacs)</th>\n",
       "    </tr>\n",
       "  </thead>\n",
       "  <tbody>\n",
       "    <tr>\n",
       "      <th>0</th>\n",
       "      <td>2018-09-28</td>\n",
       "      <td>234.05</td>\n",
       "      <td>235.95</td>\n",
       "      <td>230.20</td>\n",
       "      <td>233.50</td>\n",
       "      <td>233.75</td>\n",
       "      <td>3069914</td>\n",
       "      <td>7162.35</td>\n",
       "    </tr>\n",
       "    <tr>\n",
       "      <th>1</th>\n",
       "      <td>2018-09-27</td>\n",
       "      <td>234.55</td>\n",
       "      <td>236.80</td>\n",
       "      <td>231.10</td>\n",
       "      <td>233.80</td>\n",
       "      <td>233.25</td>\n",
       "      <td>5082859</td>\n",
       "      <td>11859.95</td>\n",
       "    </tr>\n",
       "    <tr>\n",
       "      <th>2</th>\n",
       "      <td>2018-09-26</td>\n",
       "      <td>240.00</td>\n",
       "      <td>240.00</td>\n",
       "      <td>232.50</td>\n",
       "      <td>235.00</td>\n",
       "      <td>234.25</td>\n",
       "      <td>2240909</td>\n",
       "      <td>5248.60</td>\n",
       "    </tr>\n",
       "    <tr>\n",
       "      <th>3</th>\n",
       "      <td>2018-09-25</td>\n",
       "      <td>233.30</td>\n",
       "      <td>236.75</td>\n",
       "      <td>232.00</td>\n",
       "      <td>236.25</td>\n",
       "      <td>236.10</td>\n",
       "      <td>2349368</td>\n",
       "      <td>5503.90</td>\n",
       "    </tr>\n",
       "    <tr>\n",
       "      <th>4</th>\n",
       "      <td>2018-09-24</td>\n",
       "      <td>233.55</td>\n",
       "      <td>239.20</td>\n",
       "      <td>230.75</td>\n",
       "      <td>234.00</td>\n",
       "      <td>233.30</td>\n",
       "      <td>3423509</td>\n",
       "      <td>7999.55</td>\n",
       "    </tr>\n",
       "  </tbody>\n",
       "</table>\n",
       "</div>"
      ],
      "text/plain": [
       "         Date    Open    High     Low    Last   Close  Total Trade Quantity  \\\n",
       "0  2018-09-28  234.05  235.95  230.20  233.50  233.75               3069914   \n",
       "1  2018-09-27  234.55  236.80  231.10  233.80  233.25               5082859   \n",
       "2  2018-09-26  240.00  240.00  232.50  235.00  234.25               2240909   \n",
       "3  2018-09-25  233.30  236.75  232.00  236.25  236.10               2349368   \n",
       "4  2018-09-24  233.55  239.20  230.75  234.00  233.30               3423509   \n",
       "\n",
       "   Turnover (Lacs)  \n",
       "0          7162.35  \n",
       "1         11859.95  \n",
       "2          5248.60  \n",
       "3          5503.90  \n",
       "4          7999.55  "
      ]
     },
     "execution_count": 18,
     "metadata": {},
     "output_type": "execute_result"
    }
   ],
   "source": [
    "import numpy as np\n",
    "import matplotlib.pyplot as plt\n",
    "import pandas as pd \n",
    "dataset = pd.read_csv('C:\\\\Users\\\\16478\\\\Desktop\\\\data_science\\\\LSTM\\\\training_data_set.csv')\n",
    "dataset.head()\n",
    "\n"
   ]
  },
  {
   "cell_type": "code",
   "execution_count": 19,
   "id": "88911e5c",
   "metadata": {},
   "outputs": [
    {
     "data": {
      "text/plain": [
       "array([[234.05],\n",
       "       [234.55],\n",
       "       [240.  ],\n",
       "       ...,\n",
       "       [121.8 ],\n",
       "       [120.3 ],\n",
       "       [122.1 ]])"
      ]
     },
     "execution_count": 19,
     "metadata": {},
     "output_type": "execute_result"
    }
   ],
   "source": [
    "opening_prices = dataset.iloc[:, 1:2].values\n",
    "opening_prices"
   ]
  },
  {
   "cell_type": "code",
   "execution_count": 20,
   "id": "7bbd6c4c",
   "metadata": {},
   "outputs": [
    {
     "data": {
      "text/plain": [
       "array([[0.6202352 ],\n",
       "       [0.62226277],\n",
       "       [0.64436334],\n",
       "       ...,\n",
       "       [0.16504461],\n",
       "       [0.15896188],\n",
       "       [0.16626115]])"
      ]
     },
     "execution_count": 20,
     "metadata": {},
     "output_type": "execute_result"
    }
   ],
   "source": [
    "from sklearn.preprocessing import MinMaxScaler\n",
    "sc = MinMaxScaler(feature_range=(0,1))\n",
    "opening_prices_scaled = sc.fit_transform(opening_prices)\n",
    "opening_prices_scaled"
   ]
  },
  {
   "cell_type": "code",
   "execution_count": 21,
   "id": "a773bae1",
   "metadata": {},
   "outputs": [],
   "source": [
    "X_train = []\n",
    "y_train = []\n",
    "for i in range(30, 2035):\n",
    "    X_train.append(opening_prices_scaled[i-30:i, 0])\n",
    "    y_train.append(opening_prices_scaled[i, 0])\n",
    "X_train, y_train = np.array(X_train), np.array(y_train)\n",
    "\n",
    "X_train = np.reshape(X_train, (X_train.shape[0], X_train.shape[1], 1))"
   ]
  },
  {
   "cell_type": "code",
   "execution_count": 22,
   "id": "4a3ebf06",
   "metadata": {},
   "outputs": [],
   "source": [
    "from keras.models import Sequential\n",
    "from keras.layers import LSTM\n",
    "from keras.layers import Dropout\n",
    "from keras.layers import Dense "
   ]
  },
  {
   "cell_type": "code",
   "execution_count": 23,
   "id": "74b6f4ca",
   "metadata": {},
   "outputs": [
    {
     "name": "stdout",
     "output_type": "stream",
     "text": [
      "Epoch 1/80\n",
      "63/63 [==============================] - 30s 77ms/step - loss: 0.0116\n",
      "Epoch 2/80\n",
      "63/63 [==============================] - 6s 91ms/step - loss: 0.0029\n",
      "Epoch 3/80\n",
      "63/63 [==============================] - 5s 84ms/step - loss: 0.0029\n",
      "Epoch 4/80\n",
      "63/63 [==============================] - 6s 89ms/step - loss: 0.0028\n",
      "Epoch 5/80\n",
      "63/63 [==============================] - 6s 94ms/step - loss: 0.0029\n",
      "Epoch 6/80\n",
      "63/63 [==============================] - 5s 84ms/step - loss: 0.0027\n",
      "Epoch 7/80\n",
      "63/63 [==============================] - 5s 86ms/step - loss: 0.0024\n",
      "Epoch 8/80\n",
      "63/63 [==============================] - 5s 77ms/step - loss: 0.0022\n",
      "Epoch 9/80\n",
      "63/63 [==============================] - 5s 82ms/step - loss: 0.0022\n",
      "Epoch 10/80\n",
      "63/63 [==============================] - 5s 87ms/step - loss: 0.0019\n",
      "Epoch 11/80\n",
      "63/63 [==============================] - 5s 82ms/step - loss: 0.0020\n",
      "Epoch 12/80\n",
      "63/63 [==============================] - 5s 79ms/step - loss: 0.0017\n",
      "Epoch 13/80\n",
      "63/63 [==============================] - 5s 84ms/step - loss: 0.0019\n",
      "Epoch 14/80\n",
      "63/63 [==============================] - 5s 82ms/step - loss: 0.0017\n",
      "Epoch 15/80\n",
      "63/63 [==============================] - 5s 84ms/step - loss: 0.0016\n",
      "Epoch 16/80\n",
      "63/63 [==============================] - 5s 82ms/step - loss: 0.0017\n",
      "Epoch 17/80\n",
      "63/63 [==============================] - 5s 80ms/step - loss: 0.0017\n",
      "Epoch 18/80\n",
      "63/63 [==============================] - 5s 79ms/step - loss: 0.0015\n",
      "Epoch 19/80\n",
      "63/63 [==============================] - 5s 82ms/step - loss: 0.0014\n",
      "Epoch 20/80\n",
      "63/63 [==============================] - 5s 80ms/step - loss: 0.0014\n",
      "Epoch 21/80\n",
      "63/63 [==============================] - 5s 77ms/step - loss: 0.0015\n",
      "Epoch 22/80\n",
      "63/63 [==============================] - 5s 75ms/step - loss: 0.0015\n",
      "Epoch 23/80\n",
      "63/63 [==============================] - 5s 78ms/step - loss: 0.0016\n",
      "Epoch 24/80\n",
      "63/63 [==============================] - 5s 79ms/step - loss: 0.0013\n",
      "Epoch 25/80\n",
      "63/63 [==============================] - 5s 76ms/step - loss: 0.0013\n",
      "Epoch 26/80\n",
      "63/63 [==============================] - 5s 74ms/step - loss: 0.0013\n",
      "Epoch 27/80\n",
      "63/63 [==============================] - 5s 74ms/step - loss: 0.0011\n",
      "Epoch 28/80\n",
      "63/63 [==============================] - 5s 74ms/step - loss: 0.0012\n",
      "Epoch 29/80\n",
      "63/63 [==============================] - 5s 75ms/step - loss: 0.0011\n",
      "Epoch 30/80\n",
      "63/63 [==============================] - 5s 75ms/step - loss: 0.0012\n",
      "Epoch 31/80\n",
      "63/63 [==============================] - 5s 75ms/step - loss: 0.0012\n",
      "Epoch 32/80\n",
      "63/63 [==============================] - 5s 78ms/step - loss: 0.0013\n",
      "Epoch 33/80\n",
      "63/63 [==============================] - 5s 76ms/step - loss: 0.0011\n",
      "Epoch 34/80\n",
      "63/63 [==============================] - 5s 79ms/step - loss: 0.0011\n",
      "Epoch 35/80\n",
      "63/63 [==============================] - 5s 77ms/step - loss: 0.0012\n",
      "Epoch 36/80\n",
      "63/63 [==============================] - 5s 76ms/step - loss: 0.0011\n",
      "Epoch 37/80\n",
      "63/63 [==============================] - 5s 78ms/step - loss: 9.4896e-04\n",
      "Epoch 38/80\n",
      "63/63 [==============================] - 5s 85ms/step - loss: 0.0012\n",
      "Epoch 39/80\n",
      "63/63 [==============================] - 5s 84ms/step - loss: 8.8289e-04\n",
      "Epoch 40/80\n",
      "63/63 [==============================] - 5s 80ms/step - loss: 9.5610e-04\n",
      "Epoch 41/80\n",
      "63/63 [==============================] - 5s 86ms/step - loss: 0.0012\n",
      "Epoch 42/80\n",
      "63/63 [==============================] - 5s 78ms/step - loss: 0.0010\n",
      "Epoch 43/80\n",
      "63/63 [==============================] - 5s 83ms/step - loss: 9.7210e-04\n",
      "Epoch 44/80\n",
      "63/63 [==============================] - 5s 84ms/step - loss: 8.9027e-04\n",
      "Epoch 45/80\n",
      "63/63 [==============================] - 5s 77ms/step - loss: 8.8074e-04\n",
      "Epoch 46/80\n",
      "63/63 [==============================] - 5s 82ms/step - loss: 8.6404e-04\n",
      "Epoch 47/80\n",
      "63/63 [==============================] - 5s 78ms/step - loss: 7.6261e-04\n",
      "Epoch 48/80\n",
      "63/63 [==============================] - 5s 80ms/step - loss: 8.9655e-04\n",
      "Epoch 49/80\n",
      "63/63 [==============================] - 5s 78ms/step - loss: 9.2054e-04\n",
      "Epoch 50/80\n",
      "63/63 [==============================] - 5s 80ms/step - loss: 8.6151e-04\n",
      "Epoch 51/80\n",
      "63/63 [==============================] - 6s 91ms/step - loss: 8.0792e-04\n",
      "Epoch 52/80\n",
      "63/63 [==============================] - 5s 83ms/step - loss: 9.0525e-04\n",
      "Epoch 53/80\n",
      "63/63 [==============================] - 5s 81ms/step - loss: 8.2893e-04\n",
      "Epoch 54/80\n",
      "63/63 [==============================] - 5s 77ms/step - loss: 8.3624e-04\n",
      "Epoch 55/80\n",
      "63/63 [==============================] - 5s 79ms/step - loss: 8.3299e-04\n",
      "Epoch 56/80\n",
      "63/63 [==============================] - 5s 84ms/step - loss: 7.9810e-04\n",
      "Epoch 57/80\n",
      "63/63 [==============================] - 6s 88ms/step - loss: 7.5790e-04\n",
      "Epoch 58/80\n",
      "63/63 [==============================] - 6s 88ms/step - loss: 8.2936e-04\n",
      "Epoch 59/80\n",
      "63/63 [==============================] - 5s 84ms/step - loss: 8.4642e-04\n",
      "Epoch 60/80\n",
      "63/63 [==============================] - 5s 79ms/step - loss: 0.0011\n",
      "Epoch 61/80\n",
      "63/63 [==============================] - 5s 81ms/step - loss: 8.1012e-04\n",
      "Epoch 62/80\n",
      "63/63 [==============================] - 5s 80ms/step - loss: 7.3464e-04\n",
      "Epoch 63/80\n",
      "63/63 [==============================] - 5s 83ms/step - loss: 7.2974e-04\n",
      "Epoch 64/80\n",
      "63/63 [==============================] - 5s 77ms/step - loss: 7.1563e-04\n",
      "Epoch 65/80\n",
      "63/63 [==============================] - 5s 84ms/step - loss: 7.0403e-04\n",
      "Epoch 66/80\n",
      "63/63 [==============================] - 5s 83ms/step - loss: 6.8985e-04\n",
      "Epoch 67/80\n",
      "63/63 [==============================] - 5s 76ms/step - loss: 6.2623e-04\n",
      "Epoch 68/80\n",
      "63/63 [==============================] - 5s 80ms/step - loss: 7.7339e-04\n",
      "Epoch 69/80\n",
      "63/63 [==============================] - 5s 84ms/step - loss: 8.6418e-04\n",
      "Epoch 70/80\n",
      "63/63 [==============================] - 5s 80ms/step - loss: 7.1591e-04\n",
      "Epoch 71/80\n",
      "63/63 [==============================] - 5s 83ms/step - loss: 6.7629e-04\n",
      "Epoch 72/80\n",
      "63/63 [==============================] - 5s 78ms/step - loss: 7.6169e-04\n",
      "Epoch 73/80\n",
      "63/63 [==============================] - 5s 81ms/step - loss: 7.2121e-04\n",
      "Epoch 74/80\n",
      "63/63 [==============================] - 5s 85ms/step - loss: 7.5565e-04\n",
      "Epoch 75/80\n",
      "63/63 [==============================] - 5s 74ms/step - loss: 7.8056e-04\n",
      "Epoch 76/80\n",
      "63/63 [==============================] - 5s 78ms/step - loss: 7.2541e-04\n",
      "Epoch 77/80\n",
      "63/63 [==============================] - 5s 84ms/step - loss: 7.6011e-04\n",
      "Epoch 78/80\n",
      "63/63 [==============================] - 5s 79ms/step - loss: 7.0834e-04\n",
      "Epoch 79/80\n",
      "63/63 [==============================] - 5s 77ms/step - loss: 7.3304e-04\n",
      "Epoch 80/80\n",
      "63/63 [==============================] - 5s 79ms/step - loss: 6.4808e-04\n"
     ]
    },
    {
     "data": {
      "text/plain": [
       "<keras.src.callbacks.History at 0x23b7012f2e0>"
      ]
     },
     "execution_count": 23,
     "metadata": {},
     "output_type": "execute_result"
    }
   ],
   "source": [
    "model = Sequential()\n",
    "\n",
    "model.add(LSTM(units=50,return_sequences=True,input_shape=(X_train.shape[1], 1)))\n",
    "model.add(Dropout(0.2))\n",
    "\n",
    "model.add(LSTM(units=50,return_sequences=True))\n",
    "model.add(Dropout(0.2))\n",
    "\n",
    "model.add(LSTM(units=50,return_sequences=True))\n",
    "model.add(Dropout(0.2))\n",
    "\n",
    "model.add(LSTM(units=50))\n",
    "model.add(Dropout(0.2))\n",
    "\n",
    "model.add(Dense(units=1))\n",
    "\n",
    "model.compile(optimizer='adam',loss='mean_squared_error')\n",
    "\n",
    "model.fit(X_train,y_train,epochs=80,batch_size=32)"
   ]
  },
  {
   "cell_type": "code",
   "execution_count": 26,
   "id": "2fd4386c",
   "metadata": {},
   "outputs": [
    {
     "name": "stdout",
     "output_type": "stream",
     "text": [
      "1/1 [==============================] - 0s 41ms/step\n"
     ]
    }
   ],
   "source": [
    "dataset_test = pd.read_csv('C:\\\\Users\\\\16478\\\\Desktop\\\\data_science\\\\LSTM\\\\test_data.csv')\n",
    "real_stock_price = dataset_test.iloc[:, 1:2].values\n",
    "\n",
    "dataset_total = pd.concat((dataset['Open'], dataset_test['Open']), axis = 0)\n",
    "inputs = dataset_total[len(dataset_total) - len(dataset_test) - 30:].values\n",
    "inputs = inputs.reshape(-1,1)\n",
    "inputs = sc.transform(inputs)\n",
    "X_test = []\n",
    "for i in range(30, 46):\n",
    "    X_test.append(inputs[i-30:i, 0])\n",
    "X_test = np.array(X_test)\n",
    "X_test = np.reshape(X_test, (X_test.shape[0], X_test.shape[1], 1))\n",
    "predicted_stock_price = model.predict(X_test)\n",
    "predicted_stock_price = sc.inverse_transform(predicted_stock_price)"
   ]
  },
  {
   "cell_type": "code",
   "execution_count": 27,
   "id": "eb310d86",
   "metadata": {},
   "outputs": [
    {
     "data": {
      "image/png": "[encoded data removed]",
      "text/plain": [
       "<Figure size 640x480 with 1 Axes>"
      ]
     },
     "metadata": {},
     "output_type": "display_data"
    }
   ],
   "source": [
    "plt.plot(real_stock_price, color = 'black', label = 'Original Stock Price')\n",
    "plt.plot(predicted_stock_price, color = 'green', label = 'Predicted Stock Price')\n",
    "plt.title('Sample Stock Price Prediction')\n",
    "plt.xlabel('Time')\n",
    "plt.ylabel(' Stock Price')\n",
    "plt.legend()\n",
    "plt.show()"
   ]
  },
  {
   "cell_type": "code",
   "execution_count": null,
   "id": "5ed0c181",
   "metadata": {},
   "outputs": [],
   "source": []
  },
  {
   "cell_type": "code",
   "execution_count": null,
   "id": "5d1902f6",
   "metadata": {},
   "outputs": [],
   "source": []
  },
  {
   "cell_type": "code",
   "execution_count": null,
   "id": "3d570908",
   "metadata": {},
   "outputs": [],
   "source": []
  }
 ],
 "metadata": {
  "kernelspec": {
   "display_name": "Python 3 (ipykernel)",
   "language": "python",
   "name": "python3"
  },
  "language_info": {
   "codemirror_mode": {
    "name": "ipython",
    "version": 3
   },
   "file_extension": ".py",
   "mimetype": "text/x-python",
   "name": "python",
   "nbconvert_exporter": "python",
   "pygments_lexer": "ipython3",
   "version": "3.9.13"
  }
 },
 "nbformat": 4,
 "nbformat_minor": 5
}
